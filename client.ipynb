{
  "nbformat": 4,
  "nbformat_minor": 0,
  "metadata": {
    "colab": {
      "name": "client.ipynb",
      "provenance": [],
      "authorship_tag": "ABX9TyN2BziFm6wl8rQWGE4mOBj1",
      "include_colab_link": true
    },
    "kernelspec": {
      "name": "python3",
      "display_name": "Python 3"
    },
    "language_info": {
      "name": "python"
    }
  },
  "cells": [
    {
      "cell_type": "markdown",
      "metadata": {
        "id": "view-in-github",
        "colab_type": "text"
      },
      "source": [
        "<a href=\"https://colab.research.google.com/github/jgentry10/MSDS498_Capstone/blob/main/client.ipynb\" target=\"_parent\"><img src=\"https://colab.research.google.com/assets/colab-badge.svg\" alt=\"Open In Colab\"/></a>"
      ]
    },
    {
      "cell_type": "code",
      "metadata": {
        "id": "z1Wd5GtEC4P3"
      },
      "source": [
        "import requests\n",
        "import json\n",
        "\n",
        "# insert here the URL given from the Kubernetes with the extension /api\n",
        "url = 'http://34.71.91.206/api'\n",
        "\n",
        "# the input data\n",
        "data = [[14.34, 1.68, 2.7, 25.0]]\n",
        "j_data = json.dumps(data)\n",
        "headers = {'content-type': 'application/json', 'Accept-Charset': 'UTF-8'}\n",
        "r = requests.post(url, data=j_data, headers=headers)\n",
        "print(r, r.text)"
      ],
      "execution_count": null,
      "outputs": []
    }
  ]
}