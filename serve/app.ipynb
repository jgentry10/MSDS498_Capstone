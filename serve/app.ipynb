{
  "nbformat": 4,
  "nbformat_minor": 0,
  "metadata": {
    "colab": {
      "name": "app.ipynb",
      "provenance": [],
      "authorship_tag": "ABX9TyM+A5ffMJfSTQNcOYs3gBUp",
      "include_colab_link": true
    },
    "kernelspec": {
      "name": "python3",
      "display_name": "Python 3"
    },
    "language_info": {
      "name": "python"
    }
  },
  "cells": [
    {
      "cell_type": "markdown",
      "metadata": {
        "id": "view-in-github",
        "colab_type": "text"
      },
      "source": [
        "<a href=\"https://colab.research.google.com/github/jgentry10/MSDS498_Capstone/blob/main/app.ipynb\" target=\"_parent\"><img src=\"https://colab.research.google.com/assets/colab-badge.svg\" alt=\"Open In Colab\"/></a>"
      ]
    },
    {
      "cell_type": "code",
      "metadata": {
        "id": "RLVtutY-MHsB"
      },
      "source": [
        "from flask import Flask, request, jsonify\n",
        "import numpy as np\n",
        "import pickle as p\n",
        "from google.cloud import storage\n",
        "\n",
        "# initialize the app\n",
        "app = Flask(__name__)\n",
        "\n",
        "# when the user sends a POST request\n",
        "@app.route('/api', methods=['POST'])\n",
        "def makecalc():\n",
        "    # get the data from the user\n",
        "    data = request.get_json()\n",
        "    data = np.array(data).reshape(1, -1)\n",
        "    \n",
        "    # uses the model and the input data to predict\n",
        "    pred = model.predict(data)\n",
        "    prediction = np.array2string(pred)\n",
        "    return jsonify(prediction)\n",
        "\n",
        "if __name__ == '__main__':\n",
        "    # to download from Google Cloud Storage the pickle file \n",
        "    storage_client = storage.Client()\n",
        "    bucket = storage_client.bucket('flower_prediction_app')\n",
        "    # loads the pickle file\n",
        "    blob = bucket.blob('prediction.pickle')\n",
        "    # saves temporarily the pickle file \n",
        "    temp_model_location = './temp_model.pickle'\n",
        "    blob.download_to_filename(temp_model_location)\n",
        "    with open(temp_model_location, \"rb\") as f:\n",
        "        model = p.load(f)\n",
        "        \n",
        "    # runs the app\n",
        "    # to run the app locally use host='127.0.0.1'\n",
        "    app.run(debug=False, host='0.0.0.0')"
      ],
      "execution_count": null,
      "outputs": []
    }
  ]
}
