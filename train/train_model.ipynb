{
  "nbformat": 4,
  "nbformat_minor": 0,
  "metadata": {
    "colab": {
      "name": "train_model.ipynb",
      "provenance": [],
      "authorship_tag": "ABX9TyPIX/id5lSn9SAr3S0JsuOy",
      "include_colab_link": true
    },
    "kernelspec": {
      "name": "python3",
      "display_name": "Python 3"
    },
    "language_info": {
      "name": "python"
    }
  },
  "cells": [
    {
      "cell_type": "markdown",
      "metadata": {
        "id": "view-in-github",
        "colab_type": "text"
      },
      "source": [
        "<a href=\"https://colab.research.google.com/github/jgentry10/MSDS498_Capstone/blob/main/train_model.ipynb\" target=\"_parent\"><img src=\"https://colab.research.google.com/assets/colab-badge.svg\" alt=\"Open In Colab\"/></a>"
      ]
    },
    {
      "cell_type": "code",
      "metadata": {
        "id": "z1Wd5GtEC4P3"
      },
      "source": [
        "# Trained model \n",
        "from sklearn import datasets\n",
        "import pandas as pd\n",
        "import pickle\n",
        "from sklearn import tree\n",
        "from sklearn.metrics import accuracy_score\n",
        "from sklearn.model_selection import train_test_split\n",
        "\n",
        "# import the flower dataset\n",
        "iris = datasets.load_iris()\n",
        "X = pd.DataFrame(iris.data)\n",
        "X.columns = iris.feature_names\n",
        "y = pd.DataFrame(iris.target)\n",
        "\n",
        "# split train and test set\n",
        "X_train, X_test, y_train, y_test = train_test_split(X, y, test_size=0.33, random_state=42)\n",
        "\n",
        "# train with Decision Tree\n",
        "clf = tree.DecisionTreeClassifier()\n",
        "clf = clf.fit(X_train, y_train)\n",
        "\n",
        "# predict \n",
        "y_pred = clf.predict(X_test)\n",
        "print(\"accuracy_score: %.2f\" % accuracy_score(y_test, y_pred))\n",
        "\n",
        "# save the model in a pickle file\n",
        "pickle.dump(clf, open('./prediction.pickle', 'wb'))"
      ],
      "execution_count": null,
      "outputs": []
    }
  ]
}
